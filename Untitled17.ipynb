{
  "nbformat": 4,
  "nbformat_minor": 0,
  "metadata": {
    "colab": {
      "provenance": [],
      "authorship_tag": "ABX9TyNp6BPidcnaZ0XfiUlovDWQ",
      "include_colab_link": true
    },
    "kernelspec": {
      "name": "python3",
      "display_name": "Python 3"
    },
    "language_info": {
      "name": "python"
    }
  },
  "cells": [
    {
      "cell_type": "markdown",
      "metadata": {
        "id": "view-in-github",
        "colab_type": "text"
      },
      "source": [
        "<a href=\"https://colab.research.google.com/github/mariela-23/Ejemplo-Colab/blob/main/Untitled17.ipynb\" target=\"_parent\"><img src=\"https://colab.research.google.com/assets/colab-badge.svg\" alt=\"Open In Colab\"/></a>"
      ]
    },
    {
      "cell_type": "markdown",
      "source": [
        "algoritmos secuenciales"
      ],
      "metadata": {
        "id": "qIE5azGznyFc"
      }
    },
    {
      "cell_type": "code",
      "execution_count": 2,
      "metadata": {
        "colab": {
          "base_uri": "https://localhost:8080/",
          "height": 0
        },
        "id": "3wPVTjPimpwC",
        "outputId": "492a570a-38fb-4a0c-cddc-30311894584a"
      },
      "outputs": [
        {
          "output_type": "stream",
          "name": "stdout",
          "text": [
            "8\n"
          ]
        }
      ],
      "source": [
        "a = 5\n",
        "b = 3\n",
        "suma= a + b\n",
        "print(suma)"
      ]
    },
    {
      "cell_type": "code",
      "source": [
        "a = 5\n",
        "b = 3\n",
        "multiplicacion= a * b\n",
        "print(multiplicacion)"
      ],
      "metadata": {
        "colab": {
          "base_uri": "https://localhost:8080/",
          "height": 0
        },
        "id": "75T1zfh2m_1d",
        "outputId": "ffb5d6e1-1e16-43b6-f820-9b19024c43e0"
      },
      "execution_count": 3,
      "outputs": [
        {
          "output_type": "stream",
          "name": "stdout",
          "text": [
            "15\n"
          ]
        }
      ]
    },
    {
      "cell_type": "markdown",
      "source": [
        "algoritmos condicionales"
      ],
      "metadata": {
        "id": "8pLRbaRvn4F0"
      }
    },
    {
      "cell_type": "code",
      "source": [
        "edad = 18\n",
        "\n",
        "if edad >= 18:\n",
        "    print(\"Eres mayor de edad\")\n",
        "else:\n",
        "    print(\"Eres menor de edad\")"
      ],
      "metadata": {
        "colab": {
          "base_uri": "https://localhost:8080/",
          "height": 0
        },
        "id": "7Mp_Tr0rnonU",
        "outputId": "c105389f-d1f7-41fe-bb3f-9aa3cba48a5f"
      },
      "execution_count": 4,
      "outputs": [
        {
          "output_type": "stream",
          "name": "stdout",
          "text": [
            "Eres mayor de edad\n"
          ]
        }
      ]
    },
    {
      "cell_type": "code",
      "source": [
        "temperatura = 30\n",
        "\n",
        "if temperatura >= 20:\n",
        "    print(\"Hace calor\")\n",
        "else:\n",
        "    print(\"Hace frío\")"
      ],
      "metadata": {
        "colab": {
          "base_uri": "https://localhost:8080/",
          "height": 0
        },
        "id": "E-JWNq0yoBMc",
        "outputId": "83cbf4b6-35ad-4659-c986-06eb041b8915"
      },
      "execution_count": 6,
      "outputs": [
        {
          "output_type": "stream",
          "name": "stdout",
          "text": [
            "Hace calor\n"
          ]
        }
      ]
    },
    {
      "cell_type": "markdown",
      "source": [
        "algoritmos repetitivos"
      ],
      "metadata": {
        "id": "dV5HEOxvoi0k"
      }
    },
    {
      "cell_type": "code",
      "source": [
        "for i in range(5):\n",
        "  print(\"Hola\", i)\n"
      ],
      "metadata": {
        "colab": {
          "base_uri": "https://localhost:8080/",
          "height": 0
        },
        "id": "o7Ruirn_orGD",
        "outputId": "050b56ee-08a6-4c35-cb17-45a9d91f3981"
      },
      "execution_count": 10,
      "outputs": [
        {
          "output_type": "stream",
          "name": "stdout",
          "text": [
            "Hola 0\n",
            "Hola 1\n",
            "Hola 2\n",
            "Hola 3\n",
            "Hola 4\n"
          ]
        }
      ]
    },
    {
      "cell_type": "markdown",
      "source": [
        "segun la naturaleza"
      ],
      "metadata": {
        "id": "gQ_unjSrpP5E"
      }
    },
    {
      "cell_type": "code",
      "source": [
        "a = 3 + 2"
      ],
      "metadata": {
        "id": "oYGHj-KspSi7"
      },
      "execution_count": 11,
      "outputs": []
    },
    {
      "cell_type": "markdown",
      "source": [
        "algoritmos probalisticos"
      ],
      "metadata": {
        "id": "EZ1sUpitpeFc"
      }
    },
    {
      "cell_type": "code",
      "source": [
        "import random\n",
        "\n",
        "print(random.randint(1, 10))"
      ],
      "metadata": {
        "colab": {
          "base_uri": "https://localhost:8080/",
          "height": 0
        },
        "id": "g3Ig7t6wpgws",
        "outputId": "8d697b97-8136-471e-de76-d864941270db"
      },
      "execution_count": 12,
      "outputs": [
        {
          "output_type": "stream",
          "name": "stdout",
          "text": [
            "3\n"
          ]
        }
      ]
    }
  ]
}